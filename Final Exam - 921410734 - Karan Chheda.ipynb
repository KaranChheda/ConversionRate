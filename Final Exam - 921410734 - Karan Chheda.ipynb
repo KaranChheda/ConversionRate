{
 "cells": [
  {
   "cell_type": "markdown",
   "id": "6b9e7e7e",
   "metadata": {},
   "source": [
    "\n",
    "# <center> <font size=\"20\"> DS 861 FINAL EXAM </font>\n",
    "<center> <font size=\"5\"> KARAN CHHEDA - 921410734 </font>"
   ]
  },
  {
   "cell_type": "code",
   "execution_count": 1,
   "id": "5268602b",
   "metadata": {},
   "outputs": [],
   "source": [
    "import pandas as pd\n",
    "import numpy as np\n",
    "import seaborn as sns\n",
    "import matplotlib.pyplot as plt\n",
    "from matplotlib.pyplot import figure\n",
    "%matplotlib inline\n",
    "from sklearn import linear_model\n",
    "from sklearn.linear_model import LogisticRegression\n",
    "from sklearn.ensemble import RandomForestClassifier\n",
    "import random\n",
    "from sklearn import feature_selection\n",
    "import statsmodels.formula.api as smf\n",
    "from sklearn import metrics\n",
    "from sklearn.model_selection import cross_val_score\n",
    "from sklearn.model_selection import train_test_split\n",
    "from sklearn import preprocessing\n",
    "import statsmodels.api as sm"
   ]
  },
  {
   "cell_type": "code",
   "execution_count": 2,
   "id": "babba90e",
   "metadata": {},
   "outputs": [
    {
     "data": {
      "text/html": [
       "<div>\n",
       "<style scoped>\n",
       "    .dataframe tbody tr th:only-of-type {\n",
       "        vertical-align: middle;\n",
       "    }\n",
       "\n",
       "    .dataframe tbody tr th {\n",
       "        vertical-align: top;\n",
       "    }\n",
       "\n",
       "    .dataframe thead th {\n",
       "        text-align: right;\n",
       "    }\n",
       "</style>\n",
       "<table border=\"1\" class=\"dataframe\">\n",
       "  <thead>\n",
       "    <tr style=\"text-align: right;\">\n",
       "      <th></th>\n",
       "      <th>country</th>\n",
       "      <th>age</th>\n",
       "      <th>new_user</th>\n",
       "      <th>source</th>\n",
       "      <th>total_pages_visited</th>\n",
       "      <th>converted</th>\n",
       "    </tr>\n",
       "  </thead>\n",
       "  <tbody>\n",
       "    <tr>\n",
       "      <th>0</th>\n",
       "      <td>UK</td>\n",
       "      <td>25</td>\n",
       "      <td>1</td>\n",
       "      <td>Ads</td>\n",
       "      <td>1</td>\n",
       "      <td>0</td>\n",
       "    </tr>\n",
       "    <tr>\n",
       "      <th>1</th>\n",
       "      <td>US</td>\n",
       "      <td>23</td>\n",
       "      <td>1</td>\n",
       "      <td>Seo</td>\n",
       "      <td>5</td>\n",
       "      <td>0</td>\n",
       "    </tr>\n",
       "    <tr>\n",
       "      <th>2</th>\n",
       "      <td>US</td>\n",
       "      <td>28</td>\n",
       "      <td>1</td>\n",
       "      <td>Seo</td>\n",
       "      <td>4</td>\n",
       "      <td>0</td>\n",
       "    </tr>\n",
       "    <tr>\n",
       "      <th>3</th>\n",
       "      <td>China</td>\n",
       "      <td>39</td>\n",
       "      <td>1</td>\n",
       "      <td>Seo</td>\n",
       "      <td>5</td>\n",
       "      <td>0</td>\n",
       "    </tr>\n",
       "    <tr>\n",
       "      <th>4</th>\n",
       "      <td>US</td>\n",
       "      <td>30</td>\n",
       "      <td>1</td>\n",
       "      <td>Seo</td>\n",
       "      <td>6</td>\n",
       "      <td>0</td>\n",
       "    </tr>\n",
       "  </tbody>\n",
       "</table>\n",
       "</div>"
      ],
      "text/plain": [
       "  country  age  new_user source  total_pages_visited  converted\n",
       "0      UK   25         1    Ads                    1          0\n",
       "1      US   23         1    Seo                    5          0\n",
       "2      US   28         1    Seo                    4          0\n",
       "3   China   39         1    Seo                    5          0\n",
       "4      US   30         1    Seo                    6          0"
      ]
     },
     "execution_count": 2,
     "metadata": {},
     "output_type": "execute_result"
    }
   ],
   "source": [
    "ConversionData = pd.read_csv(\"conversion_data.csv\")\n",
    "ConversionData.head(5)"
   ]
  },
  {
   "cell_type": "markdown",
   "id": "87ad7bba",
   "metadata": {},
   "source": [
    "----------------------------------------------------------------------------------"
   ]
  },
  {
   "cell_type": "markdown",
   "id": "759038ff",
   "metadata": {},
   "source": [
    "### <center> Basic Exploratory Data Analysis"
   ]
  },
  {
   "cell_type": "code",
   "execution_count": 3,
   "id": "dac9f422",
   "metadata": {},
   "outputs": [
    {
     "data": {
      "text/plain": [
       "country                0\n",
       "age                    0\n",
       "new_user               0\n",
       "source                 0\n",
       "total_pages_visited    0\n",
       "converted              0\n",
       "dtype: int64"
      ]
     },
     "execution_count": 3,
     "metadata": {},
     "output_type": "execute_result"
    }
   ],
   "source": [
    "# To check if there are any missing/null values\n",
    "\n",
    "ConversionData.isnull().sum()"
   ]
  },
  {
   "cell_type": "code",
   "execution_count": 4,
   "id": "41827e26",
   "metadata": {},
   "outputs": [
    {
     "data": {
      "text/html": [
       "<div>\n",
       "<style scoped>\n",
       "    .dataframe tbody tr th:only-of-type {\n",
       "        vertical-align: middle;\n",
       "    }\n",
       "\n",
       "    .dataframe tbody tr th {\n",
       "        vertical-align: top;\n",
       "    }\n",
       "\n",
       "    .dataframe thead th {\n",
       "        text-align: right;\n",
       "    }\n",
       "</style>\n",
       "<table border=\"1\" class=\"dataframe\">\n",
       "  <thead>\n",
       "    <tr style=\"text-align: right;\">\n",
       "      <th></th>\n",
       "      <th>age</th>\n",
       "      <th>new_user</th>\n",
       "      <th>total_pages_visited</th>\n",
       "      <th>converted</th>\n",
       "    </tr>\n",
       "  </thead>\n",
       "  <tbody>\n",
       "    <tr>\n",
       "      <th>count</th>\n",
       "      <td>316200.00</td>\n",
       "      <td>316200.00</td>\n",
       "      <td>316200.00</td>\n",
       "      <td>316200.00</td>\n",
       "    </tr>\n",
       "    <tr>\n",
       "      <th>mean</th>\n",
       "      <td>30.57</td>\n",
       "      <td>0.69</td>\n",
       "      <td>4.87</td>\n",
       "      <td>0.03</td>\n",
       "    </tr>\n",
       "    <tr>\n",
       "      <th>std</th>\n",
       "      <td>8.27</td>\n",
       "      <td>0.46</td>\n",
       "      <td>3.34</td>\n",
       "      <td>0.18</td>\n",
       "    </tr>\n",
       "    <tr>\n",
       "      <th>min</th>\n",
       "      <td>17.00</td>\n",
       "      <td>0.00</td>\n",
       "      <td>1.00</td>\n",
       "      <td>0.00</td>\n",
       "    </tr>\n",
       "    <tr>\n",
       "      <th>25%</th>\n",
       "      <td>24.00</td>\n",
       "      <td>0.00</td>\n",
       "      <td>2.00</td>\n",
       "      <td>0.00</td>\n",
       "    </tr>\n",
       "    <tr>\n",
       "      <th>50%</th>\n",
       "      <td>30.00</td>\n",
       "      <td>1.00</td>\n",
       "      <td>4.00</td>\n",
       "      <td>0.00</td>\n",
       "    </tr>\n",
       "    <tr>\n",
       "      <th>75%</th>\n",
       "      <td>36.00</td>\n",
       "      <td>1.00</td>\n",
       "      <td>7.00</td>\n",
       "      <td>0.00</td>\n",
       "    </tr>\n",
       "    <tr>\n",
       "      <th>max</th>\n",
       "      <td>123.00</td>\n",
       "      <td>1.00</td>\n",
       "      <td>29.00</td>\n",
       "      <td>1.00</td>\n",
       "    </tr>\n",
       "  </tbody>\n",
       "</table>\n",
       "</div>"
      ],
      "text/plain": [
       "             age   new_user total_pages_visited  converted\n",
       "count  316200.00  316200.00           316200.00  316200.00\n",
       "mean       30.57       0.69                4.87       0.03\n",
       "std         8.27       0.46                3.34       0.18\n",
       "min        17.00       0.00                1.00       0.00\n",
       "25%        24.00       0.00                2.00       0.00\n",
       "50%        30.00       1.00                4.00       0.00\n",
       "75%        36.00       1.00                7.00       0.00\n",
       "max       123.00       1.00               29.00       1.00"
      ]
     },
     "execution_count": 4,
     "metadata": {},
     "output_type": "execute_result"
    }
   ],
   "source": [
    "# To compute and display summary statistics for our data\n",
    "\n",
    "ConversionData.describe().applymap(lambda x: f\"{x:0.2f}\")"
   ]
  },
  {
   "cell_type": "code",
   "execution_count": 5,
   "id": "fb25fa2c",
   "metadata": {},
   "outputs": [
    {
     "data": {
      "image/png": "[encoded data removed]",
      "text/plain": [
       "<Figure size 432x288 with 1 Axes>"
      ]
     },
     "metadata": {
      "needs_background": "light"
     },
     "output_type": "display_data"
    },
    {
     "data": {
      "image/png": "[encoded data removed]",
      "text/plain": [
       "<Figure size 432x288 with 1 Axes>"
      ]
     },
     "metadata": {
      "needs_background": "light"
     },
     "output_type": "display_data"
    },
    {
     "data": {
      "image/png": "[encoded data removed]",
      "text/plain": [
       "<Figure size 432x288 with 1 Axes>"
      ]
     },
     "metadata": {
      "needs_background": "light"
     },
     "output_type": "display_data"
    },
    {
     "data": {
      "image/png": "[encoded data removed]",
      "text/plain": [
       "<Figure size 432x288 with 1 Axes>"
      ]
     },
     "metadata": {
      "needs_background": "light"
     },
     "output_type": "display_data"
    },
    {
     "data": {
      "image/png": "[encoded data removed]",
      "text/plain": [
       "<Figure size 432x288 with 1 Axes>"
      ]
     },
     "metadata": {
      "needs_background": "light"
     },
     "output_type": "display_data"
    },
    {
     "data": {
      "image/png": "[encoded data removed]",
      "text/plain": [
       "<Figure size 432x288 with 1 Axes>"
      ]
     },
     "metadata": {
      "needs_background": "light"
     },
     "output_type": "display_data"
    }
   ],
   "source": [
    "# Visualization of data\n",
    "\n",
    "from pandas.api.types import is_string_dtype\n",
    "from pandas.api.types import is_numeric_dtype\n",
    "\n",
    "for column in ConversionData:\n",
    "    plt.figure(column)\n",
    "    plt.title(column)\n",
    "    if is_numeric_dtype(ConversionData[column]):\n",
    "        ConversionData[column].plot(kind='hist')\n",
    "    elif is_string_dtype(ConversionData[column]):\n",
    "        ConversionData[column].value_counts()[:10].plot()"
   ]
  },
  {
   "cell_type": "code",
   "execution_count": 6,
   "id": "24c15956",
   "metadata": {},
   "outputs": [
    {
     "data": {
      "text/plain": [
       "<AxesSubplot:>"
      ]
     },
     "execution_count": 6,
     "metadata": {},
     "output_type": "execute_result"
    },
    {
     "data": {
      "image/png": "[encoded data removed]",
      "text/plain": [
       "<Figure size 432x288 with 2 Axes>"
      ]
     },
     "metadata": {
      "needs_background": "light"
     },
     "output_type": "display_data"
    }
   ],
   "source": [
    "# To display the correlation - to demonstrate a linear relationship between each variable.\n",
    "\n",
    "correlation = ConversionData.corr()\n",
    "sns.heatmap(correlation, annot= True)"
   ]
  },
  {
   "cell_type": "markdown",
   "id": "b6485e8c",
   "metadata": {},
   "source": [
    "Thus, from the correlation matrix, total_pages_visited is almost not correlated with age and new_user, however, it has significant correlation with converted. Perhaps total_pages_visited is the best converted predictor."
   ]
  },
  {
   "cell_type": "code",
   "execution_count": 7,
   "id": "525c3d59",
   "metadata": {},
   "outputs": [
    {
     "data": {
      "image/png": "[encoded data removed]",
      "text/plain": [
       "<Figure size 432x288 with 1 Axes>"
      ]
     },
     "metadata": {
      "needs_background": "light"
     },
     "output_type": "display_data"
    },
    {
     "data": {
      "image/png": "[encoded data removed]",
      "text/plain": [
       "<Figure size 432x288 with 1 Axes>"
      ]
     },
     "metadata": {
      "needs_background": "light"
     },
     "output_type": "display_data"
    }
   ],
   "source": [
    "# Plotting boxplots to find outliers  \n",
    "\n",
    "plt.boxplot(ConversionData['age'])\n",
    "plt.xticks([1],['Age'])\n",
    "plt.show()\n",
    "\n",
    "plt.boxplot(ConversionData['total_pages_visited'])\n",
    "plt.xticks([1],['Total Pages Visited'])\n",
    "plt.show()"
   ]
  },
  {
   "cell_type": "markdown",
   "id": "8e315eb3",
   "metadata": {},
   "source": [
    "On displaying the boxplots, we can identify that there are outliers (anything that is more than 1.5IQR above Q3 or 1.5QR below Q1). Thus, we should get rid of these outliers from Age and Total_pages_visited columns."
   ]
  },
  {
   "cell_type": "code",
   "execution_count": 8,
   "id": "aa6a0386",
   "metadata": {},
   "outputs": [
    {
     "name": "stdout",
     "output_type": "stream",
     "text": [
      "316200\n"
     ]
    }
   ],
   "source": [
    "# lenght of the original data\n",
    "\n",
    "l1 = len(ConversionData)\n",
    "print(l1)"
   ]
  },
  {
   "cell_type": "code",
   "execution_count": 9,
   "id": "108ad12d",
   "metadata": {},
   "outputs": [],
   "source": [
    "# To find the Interquartile Range for Age and dropping the outliers. \n",
    "\n",
    "Q1 = ConversionData.age.quantile(0.25)\n",
    "Q3 = ConversionData.age.quantile(0.75)\n",
    "IQR = Q3 - Q1\n",
    "\n",
    "ConversionData.drop(ConversionData[ConversionData['age'] > (Q3 + 1.5*IQR)].index, inplace = True)"
   ]
  },
  {
   "cell_type": "code",
   "execution_count": 10,
   "id": "a6eaf93b",
   "metadata": {},
   "outputs": [
    {
     "name": "stdout",
     "output_type": "stream",
     "text": [
      "314650\n"
     ]
    }
   ],
   "source": [
    "# To check the length of the data again. \n",
    "\n",
    "l2 =len(ConversionData.age)\n",
    "print(l2)"
   ]
  },
  {
   "cell_type": "markdown",
   "id": "a94cfd4e",
   "metadata": {},
   "source": [
    "On dropping the outliers from the Age column, we reduced the number of obeservations by 1550."
   ]
  },
  {
   "cell_type": "code",
   "execution_count": 11,
   "id": "1a90f484",
   "metadata": {},
   "outputs": [],
   "source": [
    "# To find the Interquartile Range for total_pages_visited and dropping the outliers. \n",
    "\n",
    "Q1 = ConversionData.total_pages_visited.quantile(0.25)\n",
    "Q3 = ConversionData.total_pages_visited.quantile(0.75)\n",
    "IQR = Q3 - Q1\n",
    "\n",
    "ConversionData.drop(ConversionData[ConversionData['total_pages_visited'] > (Q3 + 1.5*IQR)].index, inplace = True)"
   ]
  },
  {
   "cell_type": "code",
   "execution_count": 12,
   "id": "258d6af1",
   "metadata": {},
   "outputs": [
    {
     "name": "stdout",
     "output_type": "stream",
     "text": [
      "308994\n"
     ]
    }
   ],
   "source": [
    "# To check the length of the data again. \n",
    "\n",
    "l3 = len(ConversionData.total_pages_visited)\n",
    "print(l3)"
   ]
  },
  {
   "cell_type": "markdown",
   "id": "4498c9d3",
   "metadata": {},
   "source": [
    "On dropping the outliers from the total_pages_visited column, we reduced the number of obeservations by 5656.\n",
    "- Thus, we got rid of 7206 outliers in total. "
   ]
  },
  {
   "cell_type": "code",
   "execution_count": 13,
   "id": "38e5e1d6",
   "metadata": {},
   "outputs": [
    {
     "data": {
      "text/plain": [
       "0.01655695579849447"
      ]
     },
     "execution_count": 13,
     "metadata": {},
     "output_type": "execute_result"
    }
   ],
   "source": [
    "# To find the mean of converted in our data. \n",
    "\n",
    "ConversionData['converted'].mean()\n",
    "\n"
   ]
  },
  {
   "cell_type": "markdown",
   "id": "9d275b66",
   "metadata": {},
   "source": [
    "From this mean we can say that, if we were to predict that no one has converted, our error would be 1.6%. Thus, we would want our prediction models to have error rate lesser than 1.6%."
   ]
  },
  {
   "cell_type": "code",
   "execution_count": 14,
   "id": "e5ddb4e4",
   "metadata": {},
   "outputs": [
    {
     "data": {
      "text/plain": [
       "count    5116.000000\n",
       "mean       26.486904\n",
       "std         6.868207\n",
       "min        17.000000\n",
       "25%        21.000000\n",
       "50%        25.000000\n",
       "75%        31.000000\n",
       "max        53.000000\n",
       "Name: age, dtype: float64"
      ]
     },
     "execution_count": 14,
     "metadata": {},
     "output_type": "execute_result"
    }
   ],
   "source": [
    "# To find the trend of conversion with respect to age\n",
    "\n",
    "ConversionData[ConversionData.converted == 1].age.describe()"
   ]
  },
  {
   "cell_type": "code",
   "execution_count": 15,
   "id": "2c1190c8",
   "metadata": {},
   "outputs": [
    {
     "data": {
      "text/plain": [
       "count    5116.000000\n",
       "mean       11.395231\n",
       "std         2.352547\n",
       "min         2.000000\n",
       "25%        10.000000\n",
       "50%        12.000000\n",
       "75%        13.000000\n",
       "max        14.000000\n",
       "Name: total_pages_visited, dtype: float64"
      ]
     },
     "execution_count": 15,
     "metadata": {},
     "output_type": "execute_result"
    }
   ],
   "source": [
    "# To find the trend of conversion with respect to total_pages_visited\n",
    "\n",
    "\n",
    "ConversionData[ConversionData.converted == 1].total_pages_visited.describe()"
   ]
  },
  {
   "cell_type": "code",
   "execution_count": 16,
   "id": "6807faa6",
   "metadata": {},
   "outputs": [
    {
     "name": "stdout",
     "output_type": "stream",
     "text": [
      "The conversion rate of users in USA is = 1.93 %\n",
      "The conversion rate of users in UK is = 2.78 %\n",
      "The conversion rate of users in China is = 0.08 %\n",
      "The conversion rate of users in Germany is = 3.26 %\n"
     ]
    }
   ],
   "source": [
    "# To find the conversion rate per country\n",
    "\n",
    "CR_UK = round(len(ConversionData[(ConversionData.converted == 1) & (ConversionData.country == 'UK')])/len(ConversionData[ConversionData['country'] == 'UK'])*100,2)\n",
    "CR_US = round(len(ConversionData[(ConversionData.converted == 1) & (ConversionData.country == 'US')])/len(ConversionData[ConversionData['country'] == 'US'])*100,2)\n",
    "CR_China = round(len(ConversionData[(ConversionData.converted == 1) & (ConversionData.country == 'China')])/len(ConversionData[ConversionData['country'] == 'China'])*100,2)\n",
    "CR_Germany = round(len(ConversionData[(ConversionData.converted == 1) & (ConversionData.country == 'Germany')])/len(ConversionData[ConversionData['country'] == 'Germany'])*100,2)\n",
    "\n",
    "print('The conversion rate of users in USA is =', CR_US,'%')\n",
    "print('The conversion rate of users in UK is =', CR_UK,'%')\n",
    "print('The conversion rate of users in China is =', CR_China,'%')\n",
    "print('The conversion rate of users in Germany is =', CR_Germany,'%')"
   ]
  },
  {
   "cell_type": "markdown",
   "id": "5c6ad34e",
   "metadata": {},
   "source": [
    "---------------------------------------------"
   ]
  },
  {
   "cell_type": "markdown",
   "id": "6873e7d2",
   "metadata": {},
   "source": [
    "### <center> Logistic Regression Model - To make Interpretations"
   ]
  },
  {
   "cell_type": "code",
   "execution_count": 14,
   "id": "7929ecea",
   "metadata": {},
   "outputs": [],
   "source": [
    "# To create dummy variables and drop original qualitative values.\n",
    "\n",
    "CountryDummy = pd.get_dummies(ConversionData.country, prefix = 'Country')\n",
    "del CountryDummy['Country_China']\n",
    "\n",
    "SourceDummy = pd.get_dummies(ConversionData.source, prefix = 'Source')\n",
    "del SourceDummy['Source_Ads']\n",
    "\n",
    "ConversionData = pd.concat([ConversionData, CountryDummy,SourceDummy], axis=1)\n",
    "\n",
    "del ConversionData['country']\n",
    "del ConversionData['source']"
   ]
  },
  {
   "cell_type": "code",
   "execution_count": 15,
   "id": "cceab1d6",
   "metadata": {},
   "outputs": [
    {
     "data": {
      "text/html": [
       "<div>\n",
       "<style scoped>\n",
       "    .dataframe tbody tr th:only-of-type {\n",
       "        vertical-align: middle;\n",
       "    }\n",
       "\n",
       "    .dataframe tbody tr th {\n",
       "        vertical-align: top;\n",
       "    }\n",
       "\n",
       "    .dataframe thead th {\n",
       "        text-align: right;\n",
       "    }\n",
       "</style>\n",
       "<table border=\"1\" class=\"dataframe\">\n",
       "  <thead>\n",
       "    <tr style=\"text-align: right;\">\n",
       "      <th></th>\n",
       "      <th>age</th>\n",
       "      <th>new_user</th>\n",
       "      <th>total_pages_visited</th>\n",
       "      <th>Country_Germany</th>\n",
       "      <th>Country_UK</th>\n",
       "      <th>Country_US</th>\n",
       "      <th>Source_Direct</th>\n",
       "      <th>Source_Seo</th>\n",
       "      <th>converted</th>\n",
       "    </tr>\n",
       "  </thead>\n",
       "  <tbody>\n",
       "    <tr>\n",
       "      <th>0</th>\n",
       "      <td>25</td>\n",
       "      <td>1</td>\n",
       "      <td>1</td>\n",
       "      <td>0</td>\n",
       "      <td>1</td>\n",
       "      <td>0</td>\n",
       "      <td>0</td>\n",
       "      <td>0</td>\n",
       "      <td>0</td>\n",
       "    </tr>\n",
       "    <tr>\n",
       "      <th>1</th>\n",
       "      <td>23</td>\n",
       "      <td>1</td>\n",
       "      <td>5</td>\n",
       "      <td>0</td>\n",
       "      <td>0</td>\n",
       "      <td>1</td>\n",
       "      <td>0</td>\n",
       "      <td>1</td>\n",
       "      <td>0</td>\n",
       "    </tr>\n",
       "    <tr>\n",
       "      <th>2</th>\n",
       "      <td>28</td>\n",
       "      <td>1</td>\n",
       "      <td>4</td>\n",
       "      <td>0</td>\n",
       "      <td>0</td>\n",
       "      <td>1</td>\n",
       "      <td>0</td>\n",
       "      <td>1</td>\n",
       "      <td>0</td>\n",
       "    </tr>\n",
       "    <tr>\n",
       "      <th>3</th>\n",
       "      <td>39</td>\n",
       "      <td>1</td>\n",
       "      <td>5</td>\n",
       "      <td>0</td>\n",
       "      <td>0</td>\n",
       "      <td>0</td>\n",
       "      <td>0</td>\n",
       "      <td>1</td>\n",
       "      <td>0</td>\n",
       "    </tr>\n",
       "    <tr>\n",
       "      <th>4</th>\n",
       "      <td>30</td>\n",
       "      <td>1</td>\n",
       "      <td>6</td>\n",
       "      <td>0</td>\n",
       "      <td>0</td>\n",
       "      <td>1</td>\n",
       "      <td>0</td>\n",
       "      <td>1</td>\n",
       "      <td>0</td>\n",
       "    </tr>\n",
       "  </tbody>\n",
       "</table>\n",
       "</div>"
      ],
      "text/plain": [
       "   age  new_user  total_pages_visited  Country_Germany  Country_UK  \\\n",
       "0   25         1                    1                0           1   \n",
       "1   23         1                    5                0           0   \n",
       "2   28         1                    4                0           0   \n",
       "3   39         1                    5                0           0   \n",
       "4   30         1                    6                0           0   \n",
       "\n",
       "   Country_US  Source_Direct  Source_Seo  converted  \n",
       "0           0              0           0          0  \n",
       "1           1              0           1          0  \n",
       "2           1              0           1          0  \n",
       "3           0              0           1          0  \n",
       "4           1              0           1          0  "
      ]
     },
     "execution_count": 15,
     "metadata": {},
     "output_type": "execute_result"
    }
   ],
   "source": [
    "ConversionData = ConversionData[['age','new_user','total_pages_visited','Country_Germany','Country_UK','Country_US','Source_Direct','Source_Seo','converted']]\n",
    "ConversionData.head(5)"
   ]
  },
  {
   "cell_type": "code",
   "execution_count": 16,
   "id": "8f18af73",
   "metadata": {},
   "outputs": [],
   "source": [
    "# Defining X and y\n",
    "\n",
    "listOfAllVariables = ConversionData.columns.values\n",
    "X = ConversionData[listOfAllVariables]\n",
    "del X['converted']\n",
    "y = ConversionData['converted']"
   ]
  },
  {
   "cell_type": "code",
   "execution_count": 17,
   "id": "b10d35c6",
   "metadata": {},
   "outputs": [
    {
     "name": "stdout",
     "output_type": "stream",
     "text": [
      "\u001b[1mIntercept:\u001b[0m -9.818\n",
      "\n",
      "\u001b[1mCoefficients:\u001b[0m\n",
      "    age : -0.075\n",
      "    new_user : -1.7262\n",
      "    total_pages_visited : 0.7486\n",
      "    Country_Germany : 3.4027\n",
      "    Country_UK : 3.2146\n",
      "    Country_US : 2.8382\n",
      "    Source_Direct : -0.1995\n",
      "    Source_Seo : -0.021\n",
      "\n",
      "\u001b[1mCross Valiation Score:\u001b[0m 0.9873\n"
     ]
    }
   ],
   "source": [
    "# To fit the data with a Logistic Regression Model\n",
    "\n",
    "lm1 = LogisticRegression(solver = 'liblinear',max_iter = 50000)\n",
    "lm1.fit(X,y)\n",
    "print(\"\\033[1m\" + 'Intercept:' + \"\\033[0m\", round(lm1.intercept_[0],3))\n",
    "print('')\n",
    "print(\"\\033[1m\" + 'Coefficients:' + \"\\033[0m\")\n",
    "ArrayToList = lm1.coef_.tolist()  \n",
    "coefficients = ArrayToList[0]\n",
    "c = zip(listOfAllVariables,coefficients)\n",
    "for a,b in c:\n",
    "    print('   ',a,':',round(b,4))\n",
    "print('')\n",
    "print(\"\\033[1m\" + 'Cross Valiation Score:' + \"\\033[0m\",round(cross_val_score(lm1,X,y,cv=10, scoring = 'accuracy').mean(),4))"
   ]
  },
  {
   "cell_type": "code",
   "execution_count": 18,
   "id": "15932edc",
   "metadata": {},
   "outputs": [],
   "source": [
    "# Standardizing the data\n",
    "\n",
    "def Standardize(X):\n",
    "    X_Max = X.max()\n",
    "    X_Min = X.min()\n",
    "    X_Standardized = (X - X_Min)/(X_Max - X_Min)\n",
    "    return X_Standardized\n",
    "\n",
    "for i in ['age','new_user','total_pages_visited','Country_Germany','Country_UK','Country_US','Source_Direct','Source_Seo']:\n",
    "    ConversionData[i] = Standardize(ConversionData[i])\n"
   ]
  },
  {
   "cell_type": "code",
   "execution_count": 19,
   "id": "53e9b5d7",
   "metadata": {},
   "outputs": [],
   "source": [
    "# Defining New X and y \n",
    "\n",
    "listOfAllVariables = ConversionData.columns.values\n",
    "X = ConversionData[listOfAllVariables]\n",
    "del X['converted']\n",
    "y = ConversionData['converted']"
   ]
  },
  {
   "cell_type": "code",
   "execution_count": 20,
   "id": "1481fbad",
   "metadata": {},
   "outputs": [
    {
     "data": {
      "image/png": "[encoded data removed]",
      "text/plain": [
       "<Figure size 432x288 with 1 Axes>"
      ]
     },
     "metadata": {
      "needs_background": "light"
     },
     "output_type": "display_data"
    },
    {
     "name": "stdout",
     "output_type": "stream",
     "text": [
      "Our optimal C is 10.000000\n",
      "Our accuracy at optimal C is 0.987288\n"
     ]
    }
   ],
   "source": [
    "# Using 10-fold cross validation to find the best tuning parameter - C. Using 'liblinear' and l1 penalty.\n",
    "\n",
    "c_list = np.logspace(-10,10,21) \n",
    "c_index = np.linspace(-10,10,21)\n",
    "\n",
    "# C is just the inverse of Lambda - the smaller the C - the stronger the regulatization.\n",
    "\n",
    "cv_scores = []\n",
    "for c_score in c_list:\n",
    "    lm = LogisticRegression(C = c_score,  solver = 'liblinear', max_iter  = 10000, penalty = 'l1')\n",
    "    cv_scores.append(cross_val_score(lm, X, y,cv = 10, scoring = 'accuracy').mean())\n",
    "\n",
    "plt.plot(c_index, cv_scores)\n",
    "plt.show()\n",
    "\n",
    "print(\"Our optimal C is %f\" %c_list[np.argmax(cv_scores)])   \n",
    "print(\"Our accuracy at optimal C is %f\" %np.max(cv_scores))"
   ]
  },
  {
   "cell_type": "code",
   "execution_count": 21,
   "id": "4ee4f25e",
   "metadata": {},
   "outputs": [
    {
     "data": {
      "image/png": "[encoded data removed]",
      "text/plain": [
       "<Figure size 432x288 with 1 Axes>"
      ]
     },
     "metadata": {
      "needs_background": "light"
     },
     "output_type": "display_data"
    },
    {
     "name": "stdout",
     "output_type": "stream",
     "text": [
      "Our optimal C is 0.177828\n",
      "Our accuracy at optimal C is 0.987291\n"
     ]
    }
   ],
   "source": [
    "# Localizing the search around the values we found above.\n",
    "\n",
    "c_list = np.logspace(-3,2,21) \n",
    "c_index = np.linspace(-3,2,21)\n",
    "\n",
    "cv_scores = []\n",
    "for c_score in c_list:\n",
    "    lm = LogisticRegression(C = c_score,  solver = 'liblinear', max_iter  = 10000, penalty = 'l1')\n",
    "    cv_scores.append(cross_val_score(lm, X, y,cv = 10, scoring = 'accuracy').mean())\n",
    "\n",
    "plt.plot(c_index, cv_scores)\n",
    "plt.show()\n",
    "\n",
    "print(\"Our optimal C is %f\" %c_list[np.argmax(cv_scores)])   \n",
    "print(\"Our accuracy at optimal C is %f\" %np.max(cv_scores))"
   ]
  },
  {
   "cell_type": "code",
   "execution_count": 22,
   "id": "979e0209",
   "metadata": {},
   "outputs": [
    {
     "name": "stdout",
     "output_type": "stream",
     "text": [
      "\u001b[1mIntercept:\u001b[0m -10.364\n",
      "\n",
      "\u001b[1mCoefficients:\u001b[0m\n",
      "    age : -2.67186\n",
      "    new_user : -1.71537\n",
      "    total_pages_visited : 9.7018\n",
      "    Country_Germany : 3.38311\n",
      "    Country_UK : 3.20374\n",
      "    Country_US : 2.82972\n",
      "    Source_Direct : -0.17328\n",
      "    Source_Seo : -3e-05\n"
     ]
    }
   ],
   "source": [
    "# Using the best C we found above and repeating the analysis and coefficients.\n",
    "\n",
    "lm = LogisticRegression(C = 0.177828,  solver = 'liblinear', max_iter  = 10000, penalty = 'l1')\n",
    "lm.fit(X,y)\n",
    "print(\"\\033[1m\" + 'Intercept:' + \"\\033[0m\", round(lm.intercept_[0],3))\n",
    "print('')\n",
    "print(\"\\033[1m\" + 'Coefficients:' + \"\\033[0m\")\n",
    "ArrayToList = lm.coef_.tolist()  \n",
    "coefficients = ArrayToList[0]\n",
    "c = zip(listOfAllVariables,coefficients)\n",
    "for a,b in c:\n",
    "    print('   ',a,':',round(b,5))"
   ]
  },
  {
   "cell_type": "markdown",
   "id": "0bec0e71",
   "metadata": {},
   "source": [
    "###### Based on our analysis above and the coefficients, we reckon that Source_Seo is not a significant variable, thus, we decide to drop it from our variable list."
   ]
  },
  {
   "cell_type": "code",
   "execution_count": 23,
   "id": "7f11e7fe",
   "metadata": {},
   "outputs": [],
   "source": [
    "# Defining the new X and y. (Dropping Source_Seo)\n",
    "\n",
    "listOfAllVariables = ConversionData.columns.values\n",
    "X = ConversionData[listOfAllVariables]\n",
    "del X['converted']\n",
    "del X['Source_Seo']\n",
    "y = ConversionData['converted']"
   ]
  },
  {
   "cell_type": "code",
   "execution_count": 24,
   "id": "b26ef6b1",
   "metadata": {},
   "outputs": [
    {
     "name": "stdout",
     "output_type": "stream",
     "text": [
      "\u001b[1mIntercept:\u001b[0m -9.818\n",
      "\n",
      "\u001b[1mCoefficients:\u001b[0m\n",
      "    age : -2.6872\n",
      "    new_user : -1.7199\n",
      "    total_pages_visited : 9.7133\n",
      "    Country_Germany : 3.573\n",
      "    Country_UK : 3.3873\n",
      "    Country_US : 3.0112\n",
      "    Source_Direct : -0.1817\n"
     ]
    }
   ],
   "source": [
    "# To fit the Logistic Regression model again for the final analysis. \n",
    "\n",
    "lm3 = LogisticRegression()\n",
    "lm3.fit(X,y)\n",
    "print(\"\\033[1m\" + 'Intercept:' + \"\\033[0m\", round(lm1.intercept_[0],3))\n",
    "print('')\n",
    "print(\"\\033[1m\" + 'Coefficients:' + \"\\033[0m\")\n",
    "ArrayToList = lm3.coef_.tolist()  \n",
    "coefficients = ArrayToList[0]\n",
    "c = zip(listOfAllVariables,coefficients)\n",
    "for a,b in c:\n",
    "    print('   ',a,':',round(b,4))"
   ]
  },
  {
   "cell_type": "markdown",
   "id": "89614673",
   "metadata": {},
   "source": [
    "## Recommendations: \n",
    "\n",
    "\n",
    "1. Based on the logistic regression model, we reckon that total_pages visited is the best variable. It has the highest effect on conversion rate. The higher the number of pages visited, more the odds of the user converting. \n",
    "    - Thus, our recommendation to the product team will be to make the website more interactive, thereby luring users to visit more pages and increasing the odds of conversion.\n",
    "    - Our EDA also suggests that the average number of pages visited by a user who converted was 11. This number seems a bit too much for any potential user. We would want users to visit lesser pages and convert as quickly as possible. Thus, our recommendation to the marketing team would be to market the product in such a way (using ads or SEO) that a potential customer directly visits a product page that he/she might be interested in buying.\n",
    "    \n",
    "    \n",
    "2. Our logistic regression model also suggests that it is not very likely for any new user to convert—the odds of a new user converting decreases with an increase in every new user.\n",
    "    - Thus, our recommendation to the marketing team will be to increase promotional offers for new users, which lure them into making purchases.\n",
    "    \n",
    "    \n",
    "3. Our logistic regression model and EDA suggest that the conversion rate for any user is decent in the US, UK, and Germany but very low in China.\n",
    "    - Thus our recommendations for the marketing team will be to invest more in marketing in China. Increasing exposure in China could lead to an improved conversion rate.\n",
    "    - Now that we have understood that the US, UK, and Germany have a decent conversion rate. We could work towards potentially scaling that even further. Thus, our recommendation to the marketing team will be to focus on increased exposure (via SEO or ads) to increase user engagement. Also, providing promotional offers could help.\n",
    "    \n",
    "    \n",
    "4. Our logistic regression model suggests that SEO has not been doing any great. Users who came to the site by clicking through the search results have not converted as much as those who came to the website by clicking on an ad.\n",
    "    - In this case, we could focus more on ads and scale that. We could also channelize the time and money spent on SEO towards the ads.\n",
    "    \n",
    "    \n",
    "5. Our logistic regression model also suggests that the odds of a user converting decrease drastically for every year increase in age. Based on our EDA, the average age of converted users is 26.\n",
    "    - Therefore our recommendation to the marketing team is to focus more on the target audience aged 21 to 31. \n",
    "    - Also, we would recommend that the product team build the products and the website that caters to that age group."
   ]
  },
  {
   "cell_type": "markdown",
   "id": "5530e63b",
   "metadata": {},
   "source": [
    "------------------"
   ]
  },
  {
   "cell_type": "markdown",
   "id": "6bd3ac4e",
   "metadata": {},
   "source": [
    "### <center> Random Forest Model - To make Predictions"
   ]
  },
  {
   "cell_type": "code",
   "execution_count": 25,
   "id": "7a71bb24",
   "metadata": {},
   "outputs": [],
   "source": [
    "# Defining the new X and y. \n",
    "\n",
    "listOfAllVariables = ConversionData.columns.values\n",
    "X = ConversionData[listOfAllVariables]\n",
    "del X['converted']\n",
    "y = ConversionData['converted']"
   ]
  },
  {
   "cell_type": "code",
   "execution_count": 26,
   "id": "d50fa5b5",
   "metadata": {},
   "outputs": [
    {
     "data": {
      "image/png": "[encoded data removed]",
      "text/plain": [
       "<Figure size 432x288 with 1 Axes>"
      ]
     },
     "metadata": {
      "needs_background": "light"
     },
     "output_type": "display_data"
    }
   ],
   "source": [
    "# Lets tune the model to avoid overfitting results. Thus, we tune on number of features to be included in our model. \n",
    "\n",
    "Features = range(1,8)\n",
    "oob_score_RF = []\n",
    "for i in Features:\n",
    "        RFClass = RandomForestClassifier(n_estimators = 1000, #Number of trees - the more the better!\n",
    "                           max_features = i,     #How many features to randomly choose in each node \n",
    "                           min_samples_leaf = 5, #Minimum number of observations at each terminal node\n",
    "                           oob_score = True,\n",
    "                           random_state = 1,\n",
    "                           n_jobs = -1)\n",
    "        RFClass.fit(X,y)  \n",
    "        oob_score_RF.append(RFClass.oob_score_)\n",
    "\n",
    "plt.plot(Features, oob_score_RF)\n",
    "plt.xlabel(\"Number of Features\")\n",
    "plt.ylabel(\"Out of Bag Accuracy\")\n",
    "plt.show() "
   ]
  },
  {
   "cell_type": "markdown",
   "id": "7a2aed86",
   "metadata": {},
   "source": [
    "Based on the above graph, we find that the optimal number of features to include in our model is 4. It gives the best out of bag accuracy."
   ]
  },
  {
   "cell_type": "code",
   "execution_count": 27,
   "id": "e2c28a6e",
   "metadata": {},
   "outputs": [
    {
     "name": "stdout",
     "output_type": "stream",
     "text": [
      "Out of Bag Accuracy  = 0.986886\n",
      "Cross-validation Accuracy = 0.986893\n"
     ]
    }
   ],
   "source": [
    "# Using the tuned parameter found above, we fit the Random Forest Model to our data.\n",
    "\n",
    "from sklearn.ensemble import RandomForestClassifier\n",
    "\n",
    "RFClass = RandomForestClassifier(n_estimators = 1000, \n",
    "                                 max_features = 4, \n",
    "                                 min_samples_leaf = 5,\n",
    "                                 oob_score = True,\n",
    "                                 random_state = 1,\n",
    "                                 n_jobs = -1)\n",
    "RFClass.fit(X, y)\n",
    "print(\"Out of Bag Accuracy  = %f\" %RFClass.oob_score_)\n",
    "scores = cross_val_score(RFClass, X, y, cv = 10)\n",
    "print(\"Cross-validation Accuracy = %f\" %scores.mean())"
   ]
  },
  {
   "cell_type": "code",
   "execution_count": 28,
   "id": "a217dbca",
   "metadata": {},
   "outputs": [
    {
     "name": "stdout",
     "output_type": "stream",
     "text": [
      "Misclassificationn error for oob = 1.311352 percent\n"
     ]
    }
   ],
   "source": [
    "print(\"Misclassificationn error for oob = %f percent\" %((1-RFClass.oob_score_)*100))"
   ]
  },
  {
   "cell_type": "markdown",
   "id": "46a25dc4",
   "metadata": {},
   "source": [
    "We get a misclassification error of 1.31%. Our model does a decent job. However, we should check if Boosting algorithm does a better job."
   ]
  },
  {
   "cell_type": "markdown",
   "id": "07bc5141",
   "metadata": {},
   "source": [
    "------------------------------------------------------------------------------------------------------------------------"
   ]
  },
  {
   "cell_type": "markdown",
   "id": "7ac67a28",
   "metadata": {},
   "source": [
    "### <center> Boosting Algorithm - To make Predictions"
   ]
  },
  {
   "cell_type": "code",
   "execution_count": 29,
   "id": "66670e16",
   "metadata": {},
   "outputs": [],
   "source": [
    "# Defining the new X and y. \n",
    "\n",
    "listOfAllVariables = ConversionData.columns.values\n",
    "X = ConversionData[listOfAllVariables]\n",
    "del X['converted']\n",
    "y = ConversionData['converted']"
   ]
  },
  {
   "cell_type": "code",
   "execution_count": 30,
   "id": "5a1a93cf",
   "metadata": {},
   "outputs": [
    {
     "data": {
      "image/png": "[encoded data removed]",
      "text/plain": [
       "<Figure size 432x288 with 1 Axes>"
      ]
     },
     "metadata": {
      "needs_background": "light"
     },
     "output_type": "display_data"
    }
   ],
   "source": [
    "# Tuning the boosting model on max_depth (Number of splits in each tree) - to find the best max_depth. \n",
    "# We tune the model on multiple parameters to find the optimal model to fit our data. \n",
    "# If we don't tune the model, it can give us an overfitted result. \n",
    "\n",
    "from sklearn.ensemble import GradientBoostingClassifier\n",
    "\n",
    "Depth = range(1,8)\n",
    "Score = []\n",
    "for i in Depth:\n",
    "                GBC_Tree = GradientBoostingClassifier(learning_rate = 0.01,\n",
    "                                      n_estimators = 1000,\n",
    "                                      max_depth = i,\n",
    "                                      min_samples_leaf = 10,\n",
    "                                      random_state = 1)\n",
    "                \n",
    "                Score.append(-cross_val_score(GBC_Tree, X, y, cv=10, scoring='neg_mean_squared_error', n_jobs = -1).mean())\n",
    "\n",
    "plt.plot(Depth, Score)\n",
    "plt.xlabel(\"Depth\")\n",
    "plt.ylabel(\"CV - MSE\")\n",
    "plt.show() "
   ]
  },
  {
   "cell_type": "code",
   "execution_count": 31,
   "id": "4ea3b1ec",
   "metadata": {},
   "outputs": [
    {
     "name": "stdout",
     "output_type": "stream",
     "text": [
      "Optimal Depth = 3.000000 which leads to minimum error of 0.012751.\n"
     ]
    }
   ],
   "source": [
    "Index_Min = np.argmin(Score)\n",
    "Optimal_depth = round(Depth[Index_Min],0)\n",
    "print(\"Optimal Depth = %f which leads to minimum error of %f.\" %(Optimal_depth, np.min(Score)))"
   ]
  },
  {
   "cell_type": "code",
   "execution_count": 32,
   "id": "a4623d84",
   "metadata": {},
   "outputs": [
    {
     "data": {
      "image/png": "[encoded data removed]",
      "text/plain": [
       "<Figure size 432x288 with 1 Axes>"
      ]
     },
     "metadata": {
      "needs_background": "light"
     },
     "output_type": "display_data"
    }
   ],
   "source": [
    "# Using Max_depth =3, that we found above. \n",
    "# Tuning the boosting model on NumberOfTrees - to find the best number of trees.\n",
    "\n",
    "Score = []\n",
    "NumberOfTrees = [100,1000,5000,10000,20000]\n",
    "for i in NumberOfTrees:\n",
    "                GBC_Tree = GradientBoostingClassifier(learning_rate = 0.01,\n",
    "                                             n_estimators = i, \n",
    "                                             max_depth = Optimal_depth,\n",
    "                                             min_samples_leaf = 10)\n",
    "        \n",
    "                Score.append(-cross_val_score(GBC_Tree, X, y, cv = 10, scoring = 'neg_mean_squared_error', n_jobs = -1).mean())\n",
    "\n",
    "plt.plot(NumberOfTrees, Score)\n",
    "plt.xlabel(\"Number of Trees\")\n",
    "plt.ylabel(\"CV - MSE\")\n",
    "plt.show()"
   ]
  },
  {
   "cell_type": "code",
   "execution_count": 33,
   "id": "d0f25f5a",
   "metadata": {},
   "outputs": [
    {
     "name": "stdout",
     "output_type": "stream",
     "text": [
      "Optimal tree = 5000 which leads to minimum error of 0.012735.\n"
     ]
    }
   ],
   "source": [
    "Index_Min = np.argmin(Score)\n",
    "Optimal_tree = NumberOfTrees[Index_Min]\n",
    "print(\"Optimal tree = %i which leads to minimum error of %f.\" %(Optimal_tree, np.min(Score)))"
   ]
  },
  {
   "cell_type": "markdown",
   "id": "0c05222a",
   "metadata": {},
   "source": [
    "Now, that we have the best tuning parameters, we fit the data to our Boosting model. "
   ]
  },
  {
   "cell_type": "code",
   "execution_count": 34,
   "id": "b34b31af",
   "metadata": {},
   "outputs": [
    {
     "name": "stdout",
     "output_type": "stream",
     "text": [
      "0.9872198205846775\n"
     ]
    }
   ],
   "source": [
    "from sklearn.ensemble import GradientBoostingClassifier\n",
    "from sklearn.model_selection import KFold\n",
    "from sklearn.model_selection import cross_val_score\n",
    "\n",
    "GBC_Tree = GradientBoostingClassifier(learning_rate = 0.01,\n",
    "                                      n_estimators = 5000,\n",
    "                                      max_depth = 3,\n",
    "                                      min_samples_leaf = 10,\n",
    "                                      random_state = 1) \n",
    "\n",
    "\n",
    "kf = KFold(n_splits=10, shuffle=True) \n",
    "\n",
    "scores = []\n",
    "\n",
    "y = ConversionData['converted']\n",
    "\n",
    "for train_index, test_index in kf.split(X):        \n",
    "        GBC_Tree.fit(X.iloc[train_index], y.iloc[train_index])\n",
    "        y_hat_test = GBC_Tree.predict(X.iloc[test_index]) \n",
    "        scores.append(float(sum(y_hat_test == y.iloc[test_index]))/len(y_hat_test))\n",
    "\n",
    "Score_GBC_CV = np.mean(scores)    \n",
    "\n",
    "print(Score_GBC_CV)"
   ]
  },
  {
   "cell_type": "code",
   "execution_count": 35,
   "id": "1143cb56",
   "metadata": {},
   "outputs": [
    {
     "name": "stdout",
     "output_type": "stream",
     "text": [
      "Misclassificationn error for oob = 1.278018 percent\n"
     ]
    }
   ],
   "source": [
    "print(\"Misclassificationn error for oob = %f percent\" %((1-Score_GBC_CV)*100))"
   ]
  },
  {
   "cell_type": "code",
   "execution_count": 36,
   "id": "00a4b10c",
   "metadata": {},
   "outputs": [
    {
     "name": "stdout",
     "output_type": "stream",
     "text": [
      "[0 0 0 ... 0 0 0]\n"
     ]
    }
   ],
   "source": [
    "y_hat = GBC_Tree.predict(X)\n",
    "print(y_hat)"
   ]
  },
  {
   "cell_type": "code",
   "execution_count": 37,
   "id": "6bb67758",
   "metadata": {},
   "outputs": [
    {
     "data": {
      "text/plain": [
       "array([[303040,    838],\n",
       "       [  3035,   2081]], dtype=int64)"
      ]
     },
     "execution_count": 37,
     "metadata": {},
     "output_type": "execute_result"
    }
   ],
   "source": [
    "from sklearn.metrics import confusion_matrix\n",
    "\n",
    "confusion_matrix(y, y_hat)"
   ]
  },
  {
   "cell_type": "code",
   "execution_count": 38,
   "id": "a285ccca",
   "metadata": {},
   "outputs": [],
   "source": [
    "confmat = confusion_matrix(y, y_hat)\n",
    "TN = confmat[0,0] #True Negative\n",
    "FN = confmat[1,0] #False Negative\n",
    "FP = confmat[0,1] #False Positive\n",
    "TP = confmat[1,1] #True Positive"
   ]
  },
  {
   "cell_type": "code",
   "execution_count": 39,
   "id": "1d46fc4c",
   "metadata": {},
   "outputs": [
    {
     "name": "stdout",
     "output_type": "stream",
     "text": [
      "False Positive Rate = 0.002758\n",
      "False Negative Rate = 0.593237\n",
      "True Positive Rate = 0.406763\n",
      "True Negative Rate = 0.997242\n",
      "Misclassification Error = 0.012534\n",
      "Accuracy = 0.987466\n"
     ]
    }
   ],
   "source": [
    "Err = float(FP + FN)/(FP + FN + TP + TN) #Prediction Error\n",
    "Acc = float(TP + TN)/(FP + FN + TP + TN) #Prediction Accuracy\n",
    "FPR = float(FP)/(FP + TN)  #False Positive Rate\n",
    "TNR = float(TN)/(FP + TN)  #True Negative Rate\n",
    "TPR = float(TP)/(FN + TP)  #True Positive Rate\n",
    "FNR = float(FN)/(FN + TP)  #False Negative Rate\n",
    "print(\"False Positive Rate = %f\" %FPR)\n",
    "print(\"False Negative Rate = %f\" %FNR)\n",
    "print(\"True Positive Rate = %f\" %TPR)\n",
    "print(\"True Negative Rate = %f\" %TNR)\n",
    "print(\"Misclassification Error = %f\" %Err)\n",
    "print(\"Accuracy = %f\" %Acc)"
   ]
  },
  {
   "cell_type": "code",
   "execution_count": 40,
   "id": "e0dbb458",
   "metadata": {},
   "outputs": [
    {
     "name": "stdout",
     "output_type": "stream",
     "text": [
      "Correcty Predicted Not Converted = 303040\n",
      "Correcty Predicted Converted = 2081\n",
      "Mistakenly Predicted Not Converted = 3035\n",
      "Mistakenly Predicted Converted = 838\n"
     ]
    }
   ],
   "source": [
    "Correctly_Predicted_NotConverted = sum((y == 0) & (y_hat == 0))\n",
    "Correctly_Predicted_Converted = sum((y == 1) & (y_hat == 1))\n",
    "Mistakenly_Predicted_NotConverted = sum((y == 1) & (y_hat == 0))\n",
    "Mistakenly_Predicted_Converted = sum((y == 0) & (y_hat == 1))\n",
    "\n",
    "\n",
    "print(\"Correcty Predicted Not Converted = %.f\" %Correctly_Predicted_NotConverted)\n",
    "print(\"Correcty Predicted Converted = %.f\" %Correctly_Predicted_Converted)\n",
    "print(\"Mistakenly Predicted Not Converted = %.f\" %Mistakenly_Predicted_NotConverted)\n",
    "print(\"Mistakenly Predicted Converted = %.f\" %Mistakenly_Predicted_Converted)"
   ]
  },
  {
   "cell_type": "code",
   "execution_count": null,
   "id": "3186c2d7",
   "metadata": {},
   "outputs": [],
   "source": []
  }
 ],
 "metadata": {
  "kernelspec": {
   "display_name": "Python 3 (ipykernel)",
   "language": "python",
   "name": "python3"
  },
  "language_info": {
   "codemirror_mode": {
    "name": "ipython",
    "version": 3
   },
   "file_extension": ".py",
   "mimetype": "text/x-python",
   "name": "python",
   "nbconvert_exporter": "python",
   "pygments_lexer": "ipython3",
   "version": "3.10.9"
  }
 },
 "nbformat": 4,
 "nbformat_minor": 5
}
